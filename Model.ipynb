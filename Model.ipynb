{
  "nbformat": 4,
  "nbformat_minor": 0,
  "metadata": {
    "colab": {
      "name": "Model.ipynb",
      "provenance": [],
      "collapsed_sections": [],
      "toc_visible": true
    },
    "kernelspec": {
      "name": "python3",
      "display_name": "Python 3"
    },
    "language_info": {
      "name": "python"
    },
    "widgets": {
      "application/vnd.jupyter.widget-state+json": {
        "a7521231607648098b8ff59ee2ca9349": {
          "model_module": "@jupyter-widgets/controls",
          "model_name": "HBoxModel",
          "state": {
            "_view_name": "HBoxView",
            "_dom_classes": [],
            "_model_name": "HBoxModel",
            "_view_module": "@jupyter-widgets/controls",
            "_model_module_version": "1.5.0",
            "_view_count": null,
            "_view_module_version": "1.5.0",
            "box_style": "",
            "layout": "IPY_MODEL_d1018c4919ab41c5afe522a3ee14bf2a",
            "_model_module": "@jupyter-widgets/controls",
            "children": [
              "IPY_MODEL_cd651216f2964a328932da8d979cd920",
              "IPY_MODEL_af3b43ee0d3e4ba8b96966da8f658858"
            ]
          }
        },
        "d1018c4919ab41c5afe522a3ee14bf2a": {
          "model_module": "@jupyter-widgets/base",
          "model_name": "LayoutModel",
          "state": {
            "_view_name": "LayoutView",
            "grid_template_rows": null,
            "right": null,
            "justify_content": null,
            "_view_module": "@jupyter-widgets/base",
            "overflow": null,
            "_model_module_version": "1.2.0",
            "_view_count": null,
            "flex_flow": null,
            "width": null,
            "min_width": null,
            "border": null,
            "align_items": null,
            "bottom": null,
            "_model_module": "@jupyter-widgets/base",
            "top": null,
            "grid_column": null,
            "overflow_y": null,
            "overflow_x": null,
            "grid_auto_flow": null,
            "grid_area": null,
            "grid_template_columns": null,
            "flex": null,
            "_model_name": "LayoutModel",
            "justify_items": null,
            "grid_row": null,
            "max_height": null,
            "align_content": null,
            "visibility": null,
            "align_self": null,
            "height": null,
            "min_height": null,
            "padding": null,
            "grid_auto_rows": null,
            "grid_gap": null,
            "max_width": null,
            "order": null,
            "_view_module_version": "1.2.0",
            "grid_template_areas": null,
            "object_position": null,
            "object_fit": null,
            "grid_auto_columns": null,
            "margin": null,
            "display": null,
            "left": null
          }
        },
        "cd651216f2964a328932da8d979cd920": {
          "model_module": "@jupyter-widgets/controls",
          "model_name": "FloatProgressModel",
          "state": {
            "_view_name": "ProgressView",
            "style": "IPY_MODEL_ca6764bddd444b71ad5bf2bb5237370e",
            "_dom_classes": [],
            "description": "100%",
            "_model_name": "FloatProgressModel",
            "bar_style": "success",
            "max": 350,
            "_view_module": "@jupyter-widgets/controls",
            "_model_module_version": "1.5.0",
            "value": 350,
            "_view_count": null,
            "_view_module_version": "1.5.0",
            "orientation": "horizontal",
            "min": 0,
            "description_tooltip": null,
            "_model_module": "@jupyter-widgets/controls",
            "layout": "IPY_MODEL_fa39f508c2484cf982e06ce9ec835f59"
          }
        },
        "af3b43ee0d3e4ba8b96966da8f658858": {
          "model_module": "@jupyter-widgets/controls",
          "model_name": "HTMLModel",
          "state": {
            "_view_name": "HTMLView",
            "style": "IPY_MODEL_cb4e78c1b7bc4a8aab3f6af34d4a395e",
            "_dom_classes": [],
            "description": "",
            "_model_name": "HTMLModel",
            "placeholder": "​",
            "_view_module": "@jupyter-widgets/controls",
            "_model_module_version": "1.5.0",
            "value": " 350/350 [00:32&lt;00:00, 10.86it/s]",
            "_view_count": null,
            "_view_module_version": "1.5.0",
            "description_tooltip": null,
            "_model_module": "@jupyter-widgets/controls",
            "layout": "IPY_MODEL_cd5300ec22914c98b954231f2756acbf"
          }
        },
        "ca6764bddd444b71ad5bf2bb5237370e": {
          "model_module": "@jupyter-widgets/controls",
          "model_name": "ProgressStyleModel",
          "state": {
            "_view_name": "StyleView",
            "_model_name": "ProgressStyleModel",
            "description_width": "initial",
            "_view_module": "@jupyter-widgets/base",
            "_model_module_version": "1.5.0",
            "_view_count": null,
            "_view_module_version": "1.2.0",
            "bar_color": null,
            "_model_module": "@jupyter-widgets/controls"
          }
        },
        "fa39f508c2484cf982e06ce9ec835f59": {
          "model_module": "@jupyter-widgets/base",
          "model_name": "LayoutModel",
          "state": {
            "_view_name": "LayoutView",
            "grid_template_rows": null,
            "right": null,
            "justify_content": null,
            "_view_module": "@jupyter-widgets/base",
            "overflow": null,
            "_model_module_version": "1.2.0",
            "_view_count": null,
            "flex_flow": null,
            "width": null,
            "min_width": null,
            "border": null,
            "align_items": null,
            "bottom": null,
            "_model_module": "@jupyter-widgets/base",
            "top": null,
            "grid_column": null,
            "overflow_y": null,
            "overflow_x": null,
            "grid_auto_flow": null,
            "grid_area": null,
            "grid_template_columns": null,
            "flex": null,
            "_model_name": "LayoutModel",
            "justify_items": null,
            "grid_row": null,
            "max_height": null,
            "align_content": null,
            "visibility": null,
            "align_self": null,
            "height": null,
            "min_height": null,
            "padding": null,
            "grid_auto_rows": null,
            "grid_gap": null,
            "max_width": null,
            "order": null,
            "_view_module_version": "1.2.0",
            "grid_template_areas": null,
            "object_position": null,
            "object_fit": null,
            "grid_auto_columns": null,
            "margin": null,
            "display": null,
            "left": null
          }
        },
        "cb4e78c1b7bc4a8aab3f6af34d4a395e": {
          "model_module": "@jupyter-widgets/controls",
          "model_name": "DescriptionStyleModel",
          "state": {
            "_view_name": "StyleView",
            "_model_name": "DescriptionStyleModel",
            "description_width": "",
            "_view_module": "@jupyter-widgets/base",
            "_model_module_version": "1.5.0",
            "_view_count": null,
            "_view_module_version": "1.2.0",
            "_model_module": "@jupyter-widgets/controls"
          }
        },
        "cd5300ec22914c98b954231f2756acbf": {
          "model_module": "@jupyter-widgets/base",
          "model_name": "LayoutModel",
          "state": {
            "_view_name": "LayoutView",
            "grid_template_rows": null,
            "right": null,
            "justify_content": null,
            "_view_module": "@jupyter-widgets/base",
            "overflow": null,
            "_model_module_version": "1.2.0",
            "_view_count": null,
            "flex_flow": null,
            "width": null,
            "min_width": null,
            "border": null,
            "align_items": null,
            "bottom": null,
            "_model_module": "@jupyter-widgets/base",
            "top": null,
            "grid_column": null,
            "overflow_y": null,
            "overflow_x": null,
            "grid_auto_flow": null,
            "grid_area": null,
            "grid_template_columns": null,
            "flex": null,
            "_model_name": "LayoutModel",
            "justify_items": null,
            "grid_row": null,
            "max_height": null,
            "align_content": null,
            "visibility": null,
            "align_self": null,
            "height": null,
            "min_height": null,
            "padding": null,
            "grid_auto_rows": null,
            "grid_gap": null,
            "max_width": null,
            "order": null,
            "_view_module_version": "1.2.0",
            "grid_template_areas": null,
            "object_position": null,
            "object_fit": null,
            "grid_auto_columns": null,
            "margin": null,
            "display": null,
            "left": null
          }
        },
        "809e02ae783c4ab2a02be394dd51f89e": {
          "model_module": "@jupyter-widgets/controls",
          "model_name": "HBoxModel",
          "state": {
            "_view_name": "HBoxView",
            "_dom_classes": [],
            "_model_name": "HBoxModel",
            "_view_module": "@jupyter-widgets/controls",
            "_model_module_version": "1.5.0",
            "_view_count": null,
            "_view_module_version": "1.5.0",
            "box_style": "",
            "layout": "IPY_MODEL_91fb8da2a6b14a0e8412f2e7904b864a",
            "_model_module": "@jupyter-widgets/controls",
            "children": [
              "IPY_MODEL_4bc8524d04ab4bc9b8b5fe5c4e746775",
              "IPY_MODEL_4fd3b9d35289416f97ae66ba5bc64dda"
            ]
          }
        },
        "91fb8da2a6b14a0e8412f2e7904b864a": {
          "model_module": "@jupyter-widgets/base",
          "model_name": "LayoutModel",
          "state": {
            "_view_name": "LayoutView",
            "grid_template_rows": null,
            "right": null,
            "justify_content": null,
            "_view_module": "@jupyter-widgets/base",
            "overflow": null,
            "_model_module_version": "1.2.0",
            "_view_count": null,
            "flex_flow": null,
            "width": null,
            "min_width": null,
            "border": null,
            "align_items": null,
            "bottom": null,
            "_model_module": "@jupyter-widgets/base",
            "top": null,
            "grid_column": null,
            "overflow_y": null,
            "overflow_x": null,
            "grid_auto_flow": null,
            "grid_area": null,
            "grid_template_columns": null,
            "flex": null,
            "_model_name": "LayoutModel",
            "justify_items": null,
            "grid_row": null,
            "max_height": null,
            "align_content": null,
            "visibility": null,
            "align_self": null,
            "height": null,
            "min_height": null,
            "padding": null,
            "grid_auto_rows": null,
            "grid_gap": null,
            "max_width": null,
            "order": null,
            "_view_module_version": "1.2.0",
            "grid_template_areas": null,
            "object_position": null,
            "object_fit": null,
            "grid_auto_columns": null,
            "margin": null,
            "display": null,
            "left": null
          }
        },
        "4bc8524d04ab4bc9b8b5fe5c4e746775": {
          "model_module": "@jupyter-widgets/controls",
          "model_name": "FloatProgressModel",
          "state": {
            "_view_name": "ProgressView",
            "style": "IPY_MODEL_18e99b9abd8d4828946688f76a3b98b6",
            "_dom_classes": [],
            "description": "100%",
            "_model_name": "FloatProgressModel",
            "bar_style": "success",
            "max": 350,
            "_view_module": "@jupyter-widgets/controls",
            "_model_module_version": "1.5.0",
            "value": 350,
            "_view_count": null,
            "_view_module_version": "1.5.0",
            "orientation": "horizontal",
            "min": 0,
            "description_tooltip": null,
            "_model_module": "@jupyter-widgets/controls",
            "layout": "IPY_MODEL_c9165a451ac545ca8f7b34198211f0a5"
          }
        },
        "4fd3b9d35289416f97ae66ba5bc64dda": {
          "model_module": "@jupyter-widgets/controls",
          "model_name": "HTMLModel",
          "state": {
            "_view_name": "HTMLView",
            "style": "IPY_MODEL_7792cdd22ebb4a70af0c180eb0885d13",
            "_dom_classes": [],
            "description": "",
            "_model_name": "HTMLModel",
            "placeholder": "​",
            "_view_module": "@jupyter-widgets/controls",
            "_model_module_version": "1.5.0",
            "value": " 350/350 [00:22&lt;00:00, 15.88it/s]",
            "_view_count": null,
            "_view_module_version": "1.5.0",
            "description_tooltip": null,
            "_model_module": "@jupyter-widgets/controls",
            "layout": "IPY_MODEL_c4b262390f4e40a5940c6d61c4f140ed"
          }
        },
        "18e99b9abd8d4828946688f76a3b98b6": {
          "model_module": "@jupyter-widgets/controls",
          "model_name": "ProgressStyleModel",
          "state": {
            "_view_name": "StyleView",
            "_model_name": "ProgressStyleModel",
            "description_width": "initial",
            "_view_module": "@jupyter-widgets/base",
            "_model_module_version": "1.5.0",
            "_view_count": null,
            "_view_module_version": "1.2.0",
            "bar_color": null,
            "_model_module": "@jupyter-widgets/controls"
          }
        },
        "c9165a451ac545ca8f7b34198211f0a5": {
          "model_module": "@jupyter-widgets/base",
          "model_name": "LayoutModel",
          "state": {
            "_view_name": "LayoutView",
            "grid_template_rows": null,
            "right": null,
            "justify_content": null,
            "_view_module": "@jupyter-widgets/base",
            "overflow": null,
            "_model_module_version": "1.2.0",
            "_view_count": null,
            "flex_flow": null,
            "width": null,
            "min_width": null,
            "border": null,
            "align_items": null,
            "bottom": null,
            "_model_module": "@jupyter-widgets/base",
            "top": null,
            "grid_column": null,
            "overflow_y": null,
            "overflow_x": null,
            "grid_auto_flow": null,
            "grid_area": null,
            "grid_template_columns": null,
            "flex": null,
            "_model_name": "LayoutModel",
            "justify_items": null,
            "grid_row": null,
            "max_height": null,
            "align_content": null,
            "visibility": null,
            "align_self": null,
            "height": null,
            "min_height": null,
            "padding": null,
            "grid_auto_rows": null,
            "grid_gap": null,
            "max_width": null,
            "order": null,
            "_view_module_version": "1.2.0",
            "grid_template_areas": null,
            "object_position": null,
            "object_fit": null,
            "grid_auto_columns": null,
            "margin": null,
            "display": null,
            "left": null
          }
        },
        "7792cdd22ebb4a70af0c180eb0885d13": {
          "model_module": "@jupyter-widgets/controls",
          "model_name": "DescriptionStyleModel",
          "state": {
            "_view_name": "StyleView",
            "_model_name": "DescriptionStyleModel",
            "description_width": "",
            "_view_module": "@jupyter-widgets/base",
            "_model_module_version": "1.5.0",
            "_view_count": null,
            "_view_module_version": "1.2.0",
            "_model_module": "@jupyter-widgets/controls"
          }
        },
        "c4b262390f4e40a5940c6d61c4f140ed": {
          "model_module": "@jupyter-widgets/base",
          "model_name": "LayoutModel",
          "state": {
            "_view_name": "LayoutView",
            "grid_template_rows": null,
            "right": null,
            "justify_content": null,
            "_view_module": "@jupyter-widgets/base",
            "overflow": null,
            "_model_module_version": "1.2.0",
            "_view_count": null,
            "flex_flow": null,
            "width": null,
            "min_width": null,
            "border": null,
            "align_items": null,
            "bottom": null,
            "_model_module": "@jupyter-widgets/base",
            "top": null,
            "grid_column": null,
            "overflow_y": null,
            "overflow_x": null,
            "grid_auto_flow": null,
            "grid_area": null,
            "grid_template_columns": null,
            "flex": null,
            "_model_name": "LayoutModel",
            "justify_items": null,
            "grid_row": null,
            "max_height": null,
            "align_content": null,
            "visibility": null,
            "align_self": null,
            "height": null,
            "min_height": null,
            "padding": null,
            "grid_auto_rows": null,
            "grid_gap": null,
            "max_width": null,
            "order": null,
            "_view_module_version": "1.2.0",
            "grid_template_areas": null,
            "object_position": null,
            "object_fit": null,
            "grid_auto_columns": null,
            "margin": null,
            "display": null,
            "left": null
          }
        },
        "85a14d082135495887d54d40bbcbd4f7": {
          "model_module": "@jupyter-widgets/controls",
          "model_name": "HBoxModel",
          "state": {
            "_view_name": "HBoxView",
            "_dom_classes": [],
            "_model_name": "HBoxModel",
            "_view_module": "@jupyter-widgets/controls",
            "_model_module_version": "1.5.0",
            "_view_count": null,
            "_view_module_version": "1.5.0",
            "box_style": "",
            "layout": "IPY_MODEL_70a6c85b57d042509263315d40864099",
            "_model_module": "@jupyter-widgets/controls",
            "children": [
              "IPY_MODEL_e9d5daf7e0e64c41a09d3874e02a647f",
              "IPY_MODEL_43a495af4e0845d0a1eafcfba07f8867"
            ]
          }
        },
        "70a6c85b57d042509263315d40864099": {
          "model_module": "@jupyter-widgets/base",
          "model_name": "LayoutModel",
          "state": {
            "_view_name": "LayoutView",
            "grid_template_rows": null,
            "right": null,
            "justify_content": null,
            "_view_module": "@jupyter-widgets/base",
            "overflow": null,
            "_model_module_version": "1.2.0",
            "_view_count": null,
            "flex_flow": null,
            "width": null,
            "min_width": null,
            "border": null,
            "align_items": null,
            "bottom": null,
            "_model_module": "@jupyter-widgets/base",
            "top": null,
            "grid_column": null,
            "overflow_y": null,
            "overflow_x": null,
            "grid_auto_flow": null,
            "grid_area": null,
            "grid_template_columns": null,
            "flex": null,
            "_model_name": "LayoutModel",
            "justify_items": null,
            "grid_row": null,
            "max_height": null,
            "align_content": null,
            "visibility": null,
            "align_self": null,
            "height": null,
            "min_height": null,
            "padding": null,
            "grid_auto_rows": null,
            "grid_gap": null,
            "max_width": null,
            "order": null,
            "_view_module_version": "1.2.0",
            "grid_template_areas": null,
            "object_position": null,
            "object_fit": null,
            "grid_auto_columns": null,
            "margin": null,
            "display": null,
            "left": null
          }
        },
        "e9d5daf7e0e64c41a09d3874e02a647f": {
          "model_module": "@jupyter-widgets/controls",
          "model_name": "FloatProgressModel",
          "state": {
            "_view_name": "ProgressView",
            "style": "IPY_MODEL_4ee4621622fc47db8ebec873e03a311b",
            "_dom_classes": [],
            "description": "100%",
            "_model_name": "FloatProgressModel",
            "bar_style": "success",
            "max": 150,
            "_view_module": "@jupyter-widgets/controls",
            "_model_module_version": "1.5.0",
            "value": 150,
            "_view_count": null,
            "_view_module_version": "1.5.0",
            "orientation": "horizontal",
            "min": 0,
            "description_tooltip": null,
            "_model_module": "@jupyter-widgets/controls",
            "layout": "IPY_MODEL_5f43c345b9484c269b3e5a343c7c3a1f"
          }
        },
        "43a495af4e0845d0a1eafcfba07f8867": {
          "model_module": "@jupyter-widgets/controls",
          "model_name": "HTMLModel",
          "state": {
            "_view_name": "HTMLView",
            "style": "IPY_MODEL_e421ea88772241368699aa2b4a3e0e5e",
            "_dom_classes": [],
            "description": "",
            "_model_name": "HTMLModel",
            "placeholder": "​",
            "_view_module": "@jupyter-widgets/controls",
            "_model_module_version": "1.5.0",
            "value": " 150/150 [00:10&lt;00:00, 14.74it/s]",
            "_view_count": null,
            "_view_module_version": "1.5.0",
            "description_tooltip": null,
            "_model_module": "@jupyter-widgets/controls",
            "layout": "IPY_MODEL_555baaa581a34a47ad3f8264c216e959"
          }
        },
        "4ee4621622fc47db8ebec873e03a311b": {
          "model_module": "@jupyter-widgets/controls",
          "model_name": "ProgressStyleModel",
          "state": {
            "_view_name": "StyleView",
            "_model_name": "ProgressStyleModel",
            "description_width": "initial",
            "_view_module": "@jupyter-widgets/base",
            "_model_module_version": "1.5.0",
            "_view_count": null,
            "_view_module_version": "1.2.0",
            "bar_color": null,
            "_model_module": "@jupyter-widgets/controls"
          }
        },
        "5f43c345b9484c269b3e5a343c7c3a1f": {
          "model_module": "@jupyter-widgets/base",
          "model_name": "LayoutModel",
          "state": {
            "_view_name": "LayoutView",
            "grid_template_rows": null,
            "right": null,
            "justify_content": null,
            "_view_module": "@jupyter-widgets/base",
            "overflow": null,
            "_model_module_version": "1.2.0",
            "_view_count": null,
            "flex_flow": null,
            "width": null,
            "min_width": null,
            "border": null,
            "align_items": null,
            "bottom": null,
            "_model_module": "@jupyter-widgets/base",
            "top": null,
            "grid_column": null,
            "overflow_y": null,
            "overflow_x": null,
            "grid_auto_flow": null,
            "grid_area": null,
            "grid_template_columns": null,
            "flex": null,
            "_model_name": "LayoutModel",
            "justify_items": null,
            "grid_row": null,
            "max_height": null,
            "align_content": null,
            "visibility": null,
            "align_self": null,
            "height": null,
            "min_height": null,
            "padding": null,
            "grid_auto_rows": null,
            "grid_gap": null,
            "max_width": null,
            "order": null,
            "_view_module_version": "1.2.0",
            "grid_template_areas": null,
            "object_position": null,
            "object_fit": null,
            "grid_auto_columns": null,
            "margin": null,
            "display": null,
            "left": null
          }
        },
        "e421ea88772241368699aa2b4a3e0e5e": {
          "model_module": "@jupyter-widgets/controls",
          "model_name": "DescriptionStyleModel",
          "state": {
            "_view_name": "StyleView",
            "_model_name": "DescriptionStyleModel",
            "description_width": "",
            "_view_module": "@jupyter-widgets/base",
            "_model_module_version": "1.5.0",
            "_view_count": null,
            "_view_module_version": "1.2.0",
            "_model_module": "@jupyter-widgets/controls"
          }
        },
        "555baaa581a34a47ad3f8264c216e959": {
          "model_module": "@jupyter-widgets/base",
          "model_name": "LayoutModel",
          "state": {
            "_view_name": "LayoutView",
            "grid_template_rows": null,
            "right": null,
            "justify_content": null,
            "_view_module": "@jupyter-widgets/base",
            "overflow": null,
            "_model_module_version": "1.2.0",
            "_view_count": null,
            "flex_flow": null,
            "width": null,
            "min_width": null,
            "border": null,
            "align_items": null,
            "bottom": null,
            "_model_module": "@jupyter-widgets/base",
            "top": null,
            "grid_column": null,
            "overflow_y": null,
            "overflow_x": null,
            "grid_auto_flow": null,
            "grid_area": null,
            "grid_template_columns": null,
            "flex": null,
            "_model_name": "LayoutModel",
            "justify_items": null,
            "grid_row": null,
            "max_height": null,
            "align_content": null,
            "visibility": null,
            "align_self": null,
            "height": null,
            "min_height": null,
            "padding": null,
            "grid_auto_rows": null,
            "grid_gap": null,
            "max_width": null,
            "order": null,
            "_view_module_version": "1.2.0",
            "grid_template_areas": null,
            "object_position": null,
            "object_fit": null,
            "grid_auto_columns": null,
            "margin": null,
            "display": null,
            "left": null
          }
        },
        "be779a82f3e143d5be1a20de44ca2b43": {
          "model_module": "@jupyter-widgets/controls",
          "model_name": "HBoxModel",
          "state": {
            "_view_name": "HBoxView",
            "_dom_classes": [],
            "_model_name": "HBoxModel",
            "_view_module": "@jupyter-widgets/controls",
            "_model_module_version": "1.5.0",
            "_view_count": null,
            "_view_module_version": "1.5.0",
            "box_style": "",
            "layout": "IPY_MODEL_e521a7b9fccf4fb28403132e5913145b",
            "_model_module": "@jupyter-widgets/controls",
            "children": [
              "IPY_MODEL_5e4cb46df16443f89d12a99c08e36e30",
              "IPY_MODEL_f1a9d9ecfa2c4abd9cc4f23a5a1e7bc0"
            ]
          }
        },
        "e521a7b9fccf4fb28403132e5913145b": {
          "model_module": "@jupyter-widgets/base",
          "model_name": "LayoutModel",
          "state": {
            "_view_name": "LayoutView",
            "grid_template_rows": null,
            "right": null,
            "justify_content": null,
            "_view_module": "@jupyter-widgets/base",
            "overflow": null,
            "_model_module_version": "1.2.0",
            "_view_count": null,
            "flex_flow": null,
            "width": null,
            "min_width": null,
            "border": null,
            "align_items": null,
            "bottom": null,
            "_model_module": "@jupyter-widgets/base",
            "top": null,
            "grid_column": null,
            "overflow_y": null,
            "overflow_x": null,
            "grid_auto_flow": null,
            "grid_area": null,
            "grid_template_columns": null,
            "flex": null,
            "_model_name": "LayoutModel",
            "justify_items": null,
            "grid_row": null,
            "max_height": null,
            "align_content": null,
            "visibility": null,
            "align_self": null,
            "height": null,
            "min_height": null,
            "padding": null,
            "grid_auto_rows": null,
            "grid_gap": null,
            "max_width": null,
            "order": null,
            "_view_module_version": "1.2.0",
            "grid_template_areas": null,
            "object_position": null,
            "object_fit": null,
            "grid_auto_columns": null,
            "margin": null,
            "display": null,
            "left": null
          }
        },
        "5e4cb46df16443f89d12a99c08e36e30": {
          "model_module": "@jupyter-widgets/controls",
          "model_name": "FloatProgressModel",
          "state": {
            "_view_name": "ProgressView",
            "style": "IPY_MODEL_c1df6045109a4afc95f0f3161e4983b8",
            "_dom_classes": [],
            "description": "100%",
            "_model_name": "FloatProgressModel",
            "bar_style": "success",
            "max": 150,
            "_view_module": "@jupyter-widgets/controls",
            "_model_module_version": "1.5.0",
            "value": 150,
            "_view_count": null,
            "_view_module_version": "1.5.0",
            "orientation": "horizontal",
            "min": 0,
            "description_tooltip": null,
            "_model_module": "@jupyter-widgets/controls",
            "layout": "IPY_MODEL_8a02c7e23b5c4aba98c5850923366970"
          }
        },
        "f1a9d9ecfa2c4abd9cc4f23a5a1e7bc0": {
          "model_module": "@jupyter-widgets/controls",
          "model_name": "HTMLModel",
          "state": {
            "_view_name": "HTMLView",
            "style": "IPY_MODEL_8b88d42969284b948f23a7c4cb797893",
            "_dom_classes": [],
            "description": "",
            "_model_name": "HTMLModel",
            "placeholder": "​",
            "_view_module": "@jupyter-widgets/controls",
            "_model_module_version": "1.5.0",
            "value": " 150/150 [00:09&lt;00:00, 15.43it/s]",
            "_view_count": null,
            "_view_module_version": "1.5.0",
            "description_tooltip": null,
            "_model_module": "@jupyter-widgets/controls",
            "layout": "IPY_MODEL_2e778870427845ccbc3834a70f15bc79"
          }
        },
        "c1df6045109a4afc95f0f3161e4983b8": {
          "model_module": "@jupyter-widgets/controls",
          "model_name": "ProgressStyleModel",
          "state": {
            "_view_name": "StyleView",
            "_model_name": "ProgressStyleModel",
            "description_width": "initial",
            "_view_module": "@jupyter-widgets/base",
            "_model_module_version": "1.5.0",
            "_view_count": null,
            "_view_module_version": "1.2.0",
            "bar_color": null,
            "_model_module": "@jupyter-widgets/controls"
          }
        },
        "8a02c7e23b5c4aba98c5850923366970": {
          "model_module": "@jupyter-widgets/base",
          "model_name": "LayoutModel",
          "state": {
            "_view_name": "LayoutView",
            "grid_template_rows": null,
            "right": null,
            "justify_content": null,
            "_view_module": "@jupyter-widgets/base",
            "overflow": null,
            "_model_module_version": "1.2.0",
            "_view_count": null,
            "flex_flow": null,
            "width": null,
            "min_width": null,
            "border": null,
            "align_items": null,
            "bottom": null,
            "_model_module": "@jupyter-widgets/base",
            "top": null,
            "grid_column": null,
            "overflow_y": null,
            "overflow_x": null,
            "grid_auto_flow": null,
            "grid_area": null,
            "grid_template_columns": null,
            "flex": null,
            "_model_name": "LayoutModel",
            "justify_items": null,
            "grid_row": null,
            "max_height": null,
            "align_content": null,
            "visibility": null,
            "align_self": null,
            "height": null,
            "min_height": null,
            "padding": null,
            "grid_auto_rows": null,
            "grid_gap": null,
            "max_width": null,
            "order": null,
            "_view_module_version": "1.2.0",
            "grid_template_areas": null,
            "object_position": null,
            "object_fit": null,
            "grid_auto_columns": null,
            "margin": null,
            "display": null,
            "left": null
          }
        },
        "8b88d42969284b948f23a7c4cb797893": {
          "model_module": "@jupyter-widgets/controls",
          "model_name": "DescriptionStyleModel",
          "state": {
            "_view_name": "StyleView",
            "_model_name": "DescriptionStyleModel",
            "description_width": "",
            "_view_module": "@jupyter-widgets/base",
            "_model_module_version": "1.5.0",
            "_view_count": null,
            "_view_module_version": "1.2.0",
            "_model_module": "@jupyter-widgets/controls"
          }
        },
        "2e778870427845ccbc3834a70f15bc79": {
          "model_module": "@jupyter-widgets/base",
          "model_name": "LayoutModel",
          "state": {
            "_view_name": "LayoutView",
            "grid_template_rows": null,
            "right": null,
            "justify_content": null,
            "_view_module": "@jupyter-widgets/base",
            "overflow": null,
            "_model_module_version": "1.2.0",
            "_view_count": null,
            "flex_flow": null,
            "width": null,
            "min_width": null,
            "border": null,
            "align_items": null,
            "bottom": null,
            "_model_module": "@jupyter-widgets/base",
            "top": null,
            "grid_column": null,
            "overflow_y": null,
            "overflow_x": null,
            "grid_auto_flow": null,
            "grid_area": null,
            "grid_template_columns": null,
            "flex": null,
            "_model_name": "LayoutModel",
            "justify_items": null,
            "grid_row": null,
            "max_height": null,
            "align_content": null,
            "visibility": null,
            "align_self": null,
            "height": null,
            "min_height": null,
            "padding": null,
            "grid_auto_rows": null,
            "grid_gap": null,
            "max_width": null,
            "order": null,
            "_view_module_version": "1.2.0",
            "grid_template_areas": null,
            "object_position": null,
            "object_fit": null,
            "grid_auto_columns": null,
            "margin": null,
            "display": null,
            "left": null
          }
        }
      }
    },
    "accelerator": "GPU"
  },
  "cells": [
    {
      "cell_type": "markdown",
      "metadata": {
        "id": "WabwzpBBAjMI"
      },
      "source": [
        "Copyright 2021 by Fatemeh Hadadi, University of Tehran.\n",
        "All rights reserved.\n",
        "This file is part of the Polyps Detection in Colonoscopy Images Project.\n",
        "The dataset is downloadable at https://datasets.simula.no/kvasir/"
      ]
    },
    {
      "cell_type": "markdown",
      "metadata": {
        "id": "1h0ds9d4nLGV"
      },
      "source": [
        "# Import data and libraries"
      ]
    },
    {
      "cell_type": "code",
      "metadata": {
        "id": "ZhVb-BvNslGI"
      },
      "source": [
        "import cv2\n",
        "import os\n",
        "import numpy as np\n",
        "import argparse\n",
        "from matplotlib import pyplot as plt\n",
        "from PIL import Image, ImageFilter\n",
        "from skimage.io import imread_collection\n",
        "from scipy import ndimage, misc\n",
        "import glob\n",
        "import pandas as pd\n",
        "import random\n",
        "from tensorflow.keras.applications.resnet50  import ResNet50\n",
        "from tensorflow.keras.preprocessing import image\n",
        "from tensorflow.keras.applications.resnet50  import preprocess_input\n",
        "from tensorflow.keras.optimizers import SGD\n",
        "from tensorflow.keras.callbacks import EarlyStopping, ModelCheckpoint\n",
        "import tensorflow.keras as keras\n",
        "from keras.optimizers import Adam\n",
        "import math\n",
        "from shutil import copyfile\n",
        "from keras.models import load_model\n",
        "from tqdm.notebook import tqdm\n",
        "from sklearn.decomposition import PCA\n",
        "from scipy.spatial import distance\n",
        "from sklearn.model_selection import train_test_split\n",
        "from sklearn.ensemble import AdaBoostClassifier\n",
        "from sklearn.datasets import make_classification\n",
        "from sklearn.preprocessing import StandardScaler\n",
        "from sklearn.tree import DecisionTreeClassifier\n",
        "from sklearn.metrics import confusion_matrix\n",
        "from sklearn.metrics import precision_score, recall_score, f1_score, accuracy_score\n",
        "from sklearn.metrics import roc_curve\n",
        "from sklearn.metrics import auc"
      ],
      "execution_count": null,
      "outputs": []
    },
    {
      "cell_type": "code",
      "metadata": {
        "id": "S6ZS4qpRAEcB"
      },
      "source": [
        "# load the location of dataset\n",
        "org_polyp = os.path.realpath('kvasir-dataset/kvasir-dataset/polyps/')\n",
        "org_normal = os.path.realpath('kvasir-dataset/kvasir-dataset/normal-cecum/')"
      ],
      "execution_count": null,
      "outputs": []
    },
    {
      "cell_type": "markdown",
      "metadata": {
        "id": "xAtApKwtnL2U"
      },
      "source": [
        "# Split train and test"
      ]
    },
    {
      "cell_type": "code",
      "metadata": {
        "id": "B1JppmSCtVbZ"
      },
      "source": [
        "# new folder address of train and test sets\n",
        "trn_polyp = os.path.realpath('dataset/train/polyps/')\n",
        "trn_normal = os.path.realpath('dataset/train/normal-cecum/')\n",
        "val_polyp = os.path.realpath('dataset/test/polyps/')\n",
        "val_normal = os.path.realpath('dataset/test/normal-cecum/')\n",
        "# split train and test of images into two folders\n",
        "dataset_size = 1000\n",
        "split_rate = 0.7\n",
        "rnd_polyp = [trn_polyp]* int(dataset_size*split_rate/2) +[val_polyp]* int(dataset_size/2-dataset_size*split_rate/2)\n",
        "rnd_normal = [trn_normal]*int(dataset_size*split_rate/2)+[val_normal]*int(dataset_size/2-dataset_size*split_rate/2)"
      ],
      "execution_count": null,
      "outputs": []
    },
    {
      "cell_type": "code",
      "metadata": {
        "id": "ZjQ5HZHPuOOh"
      },
      "source": [
        "# copy the images with polyp to train and test folders\n",
        "try:\n",
        "  os.makedirs(os.path.join(trn_polyp))\n",
        "  os.makedirs(os.path.join(val_polyp))\n",
        "except Exception:\n",
        "  pass\n",
        "files = os.listdir(os.path.join(org_polyp))\n",
        "# shuffle to split the polyp images randomly\n",
        "random.shuffle(rnd_polyp)\n",
        "for filename, trg in zip(os.listdir(os.path.join(org_polyp)),rnd_polyp):\n",
        "  scr = os.path.join(org_polyp,filename)\n",
        "  dst = os.path.join(trg,filename)\n",
        "  copyfile(scr,dst)\n",
        "  # copy the normal images to train and test folders\n",
        "try:\n",
        "  os.makedirs(os.path.join(trn_normal))\n",
        "  os.makedirs(os.path.join(val_normal))\n",
        "except Exception:\n",
        "  pass\n",
        "files = os.listdir(os.path.join(org_normal))\n",
        "# shuffle to split the normal images randomly\n",
        "random.shuffle(rnd_normal)\n",
        "for filename, trg in zip(os.listdir(os.path.join(org_normal)),rnd_normal):\n",
        "  scr = os.path.join(org_normal,filename)\n",
        "  dst = os.path.join(trg,filename)\n",
        "  copyfile(scr,dst)\n",
        "# the result dataset with splited folders of train and test\n",
        "DATA_DIR = 'dataset'\n",
        "TRAIN_DIR = os.path.join(DATA_DIR, 'train')\n",
        "VALID_DIR = os.path.join(DATA_DIR, 'test')"
      ],
      "execution_count": null,
      "outputs": []
    },
    {
      "cell_type": "markdown",
      "metadata": {
        "id": "aEQ87LIqnMZ4"
      },
      "source": [
        "# Image preprocessing\n"
      ]
    },
    {
      "cell_type": "markdown",
      "metadata": {
        "id": "LzYKNTBYGxsM"
      },
      "source": [
        ""
      ]
    },
    {
      "cell_type": "code",
      "metadata": {
        "id": "SJk6hk8Iv9y5",
        "colab": {
          "base_uri": "https://localhost:8080/"
        },
        "outputId": "5e9ad870-a7ae-4e55-c9c8-ec8f9e835ca8"
      },
      "source": [
        "SIZE = (224, 224)\n",
        "BATCH_SIZE = 16\n",
        "num_train_samples = sum([len(files) for r, d, files in os.walk(TRAIN_DIR)])\n",
        "num_valid_samples = sum([len(files) for r, d, files in os.walk(VALID_DIR)])\n",
        "num_train_steps = math.floor(num_train_samples/BATCH_SIZE)\n",
        "num_valid_steps = math.floor(num_valid_samples/BATCH_SIZE)\n",
        "gen = keras.preprocessing.image.ImageDataGenerator()\n",
        "val_gen = keras.preprocessing.image.ImageDataGenerator()\n",
        "batches = gen.flow_from_directory(TRAIN_DIR, target_size=SIZE,\n",
        "                                  class_mode='categorical', shuffle=True, batch_size=BATCH_SIZE)\n",
        "val_batches = val_gen.flow_from_directory(VALID_DIR, target_size=SIZE,\n",
        "                                          class_mode='categorical', shuffle=True, batch_size=BATCH_SIZE)"
      ],
      "execution_count": null,
      "outputs": [
        {
          "output_type": "stream",
          "text": [
            "Found 700 images belonging to 2 classes.\n",
            "Found 300 images belonging to 2 classes.\n"
          ],
          "name": "stdout"
        }
      ]
    },
    {
      "cell_type": "markdown",
      "metadata": {
        "id": "G9vUIYsAwkJ9"
      },
      "source": [
        "# build model"
      ]
    },
    {
      "cell_type": "code",
      "metadata": {
        "id": "WKmQqFrAwogL",
        "colab": {
          "base_uri": "https://localhost:8080/"
        },
        "outputId": "80247c9f-8763-4e7d-a8f5-822207a9f5c7"
      },
      "source": [
        "base_model = ResNet50(weights='imagenet', include_top=False)\n",
        "base_model.trainable = False\n",
        "inputs = keras.Input(shape=(224, 224, 3))\n",
        "x = base_model(inputs, training=True)\n",
        "x = keras.layers.GlobalAveragePooling2D()(x)\n",
        "x = keras.layers.Dropout(0.3)(x)\n",
        "outputs = keras.layers.Dense(2, activation=\"softmax\")(x)\n",
        "model = keras.Model(inputs, outputs)\n",
        "model.summary()"
      ],
      "execution_count": null,
      "outputs": [
        {
          "output_type": "stream",
          "text": [
            "Downloading data from https://storage.googleapis.com/tensorflow/keras-applications/resnet/resnet50_weights_tf_dim_ordering_tf_kernels_notop.h5\n",
            "94773248/94765736 [==============================] - 1s 0us/step\n",
            "Model: \"model\"\n",
            "_________________________________________________________________\n",
            "Layer (type)                 Output Shape              Param #   \n",
            "=================================================================\n",
            "input_2 (InputLayer)         [(None, 224, 224, 3)]     0         \n",
            "_________________________________________________________________\n",
            "resnet50 (Functional)        (None, None, None, 2048)  23587712  \n",
            "_________________________________________________________________\n",
            "global_average_pooling2d (Gl (None, 2048)              0         \n",
            "_________________________________________________________________\n",
            "dropout (Dropout)            (None, 2048)              0         \n",
            "_________________________________________________________________\n",
            "dense (Dense)                (None, 2)                 4098      \n",
            "=================================================================\n",
            "Total params: 23,591,810\n",
            "Trainable params: 4,098\n",
            "Non-trainable params: 23,587,712\n",
            "_________________________________________________________________\n"
          ],
          "name": "stdout"
        }
      ]
    },
    {
      "cell_type": "markdown",
      "metadata": {
        "id": "RwbIgf2ew3A1"
      },
      "source": [
        "# Model Training"
      ]
    },
    {
      "cell_type": "code",
      "metadata": {
        "id": "axYN1U9iw7z5",
        "colab": {
          "base_uri": "https://localhost:8080/"
        },
        "outputId": "778ccef4-6546-44e9-be85-103c372cdefd"
      },
      "source": [
        "# the first time model is trained by freezed resnet50 model\n",
        "model.compile(optimizer=Adam(lr=0.0001), loss='categorical_crossentropy', metrics=['accuracy'])\n",
        "\n",
        "early_stopping = EarlyStopping(patience=5)\n",
        "checkpointer = ModelCheckpoint('resnet50_best.h5', verbose=1, save_best_only=True)\n",
        "model.fit(batches, steps_per_epoch=num_train_steps, epochs=20, callbacks=[early_stopping, checkpointer], validation_data=val_batches, validation_steps=num_valid_steps)\n",
        "model.save('resnet50_final.h5')"
      ],
      "execution_count": null,
      "outputs": [
        {
          "output_type": "stream",
          "text": [
            "/usr/local/lib/python3.7/dist-packages/tensorflow/python/keras/optimizer_v2/optimizer_v2.py:375: UserWarning: The `lr` argument is deprecated, use `learning_rate` instead.\n",
            "  \"The `lr` argument is deprecated, use `learning_rate` instead.\")\n"
          ],
          "name": "stderr"
        },
        {
          "output_type": "stream",
          "text": [
            "Epoch 1/20\n",
            "43/43 [==============================] - 43s 274ms/step - loss: 1.1037 - accuracy: 0.5380 - val_loss: 0.7879 - val_accuracy: 0.5208\n",
            "\n",
            "Epoch 00001: val_loss improved from inf to 0.78792, saving model to resnet50_best.h5\n"
          ],
          "name": "stdout"
        },
        {
          "output_type": "stream",
          "text": [
            "/usr/local/lib/python3.7/dist-packages/tensorflow/python/keras/utils/generic_utils.py:497: CustomMaskWarning: Custom mask layers require a config and must override get_config. When loading, the custom mask layer must be passed to the custom_objects argument.\n",
            "  category=CustomMaskWarning)\n"
          ],
          "name": "stderr"
        },
        {
          "output_type": "stream",
          "text": [
            "Epoch 2/20\n",
            "43/43 [==============================] - 11s 249ms/step - loss: 0.7682 - accuracy: 0.6096 - val_loss: 0.5929 - val_accuracy: 0.6771\n",
            "\n",
            "Epoch 00002: val_loss improved from 0.78792 to 0.59293, saving model to resnet50_best.h5\n",
            "Epoch 3/20\n",
            "43/43 [==============================] - 11s 249ms/step - loss: 0.6094 - accuracy: 0.6637 - val_loss: 0.4893 - val_accuracy: 0.7708\n",
            "\n",
            "Epoch 00003: val_loss improved from 0.59293 to 0.48933, saving model to resnet50_best.h5\n",
            "Epoch 4/20\n",
            "43/43 [==============================] - 11s 261ms/step - loss: 0.5006 - accuracy: 0.7471 - val_loss: 0.4247 - val_accuracy: 0.8264\n",
            "\n",
            "Epoch 00004: val_loss improved from 0.48933 to 0.42475, saving model to resnet50_best.h5\n",
            "Epoch 5/20\n",
            "43/43 [==============================] - 11s 253ms/step - loss: 0.4682 - accuracy: 0.7778 - val_loss: 0.3746 - val_accuracy: 0.8333\n",
            "\n",
            "Epoch 00005: val_loss improved from 0.42475 to 0.37465, saving model to resnet50_best.h5\n",
            "Epoch 6/20\n",
            "43/43 [==============================] - 11s 260ms/step - loss: 0.3671 - accuracy: 0.8260 - val_loss: 0.3393 - val_accuracy: 0.8681\n",
            "\n",
            "Epoch 00006: val_loss improved from 0.37465 to 0.33934, saving model to resnet50_best.h5\n",
            "Epoch 7/20\n",
            "43/43 [==============================] - 11s 245ms/step - loss: 0.3523 - accuracy: 0.8553 - val_loss: 0.3056 - val_accuracy: 0.8785\n",
            "\n",
            "Epoch 00007: val_loss improved from 0.33934 to 0.30561, saving model to resnet50_best.h5\n",
            "Epoch 8/20\n",
            "43/43 [==============================] - 11s 246ms/step - loss: 0.3137 - accuracy: 0.8860 - val_loss: 0.2846 - val_accuracy: 0.8819\n",
            "\n",
            "Epoch 00008: val_loss improved from 0.30561 to 0.28460, saving model to resnet50_best.h5\n",
            "Epoch 9/20\n",
            "43/43 [==============================] - 11s 245ms/step - loss: 0.2970 - accuracy: 0.8845 - val_loss: 0.2697 - val_accuracy: 0.8958\n",
            "\n",
            "Epoch 00009: val_loss improved from 0.28460 to 0.26969, saving model to resnet50_best.h5\n",
            "Epoch 10/20\n",
            "43/43 [==============================] - 11s 260ms/step - loss: 0.2896 - accuracy: 0.8787 - val_loss: 0.2695 - val_accuracy: 0.8924\n",
            "\n",
            "Epoch 00010: val_loss improved from 0.26969 to 0.26950, saving model to resnet50_best.h5\n",
            "Epoch 11/20\n",
            "43/43 [==============================] - 11s 260ms/step - loss: 0.2911 - accuracy: 0.8787 - val_loss: 0.2493 - val_accuracy: 0.9028\n",
            "\n",
            "Epoch 00011: val_loss improved from 0.26950 to 0.24927, saving model to resnet50_best.h5\n",
            "Epoch 12/20\n",
            "43/43 [==============================] - 10s 245ms/step - loss: 0.2757 - accuracy: 0.8918 - val_loss: 0.2414 - val_accuracy: 0.8993\n",
            "\n",
            "Epoch 00012: val_loss improved from 0.24927 to 0.24136, saving model to resnet50_best.h5\n",
            "Epoch 13/20\n",
            "43/43 [==============================] - 10s 244ms/step - loss: 0.2506 - accuracy: 0.9123 - val_loss: 0.2338 - val_accuracy: 0.9062\n",
            "\n",
            "Epoch 00013: val_loss improved from 0.24136 to 0.23383, saving model to resnet50_best.h5\n",
            "Epoch 14/20\n",
            "43/43 [==============================] - 11s 259ms/step - loss: 0.2367 - accuracy: 0.9079 - val_loss: 0.2235 - val_accuracy: 0.9167\n",
            "\n",
            "Epoch 00014: val_loss improved from 0.23383 to 0.22346, saving model to resnet50_best.h5\n",
            "Epoch 15/20\n",
            "43/43 [==============================] - 11s 259ms/step - loss: 0.2229 - accuracy: 0.9196 - val_loss: 0.2152 - val_accuracy: 0.9132\n",
            "\n",
            "Epoch 00015: val_loss improved from 0.22346 to 0.21523, saving model to resnet50_best.h5\n",
            "Epoch 16/20\n",
            "43/43 [==============================] - 10s 245ms/step - loss: 0.2336 - accuracy: 0.9079 - val_loss: 0.2071 - val_accuracy: 0.9271\n",
            "\n",
            "Epoch 00016: val_loss improved from 0.21523 to 0.20706, saving model to resnet50_best.h5\n",
            "Epoch 17/20\n",
            "43/43 [==============================] - 11s 245ms/step - loss: 0.2077 - accuracy: 0.9254 - val_loss: 0.2044 - val_accuracy: 0.9236\n",
            "\n",
            "Epoch 00017: val_loss improved from 0.20706 to 0.20443, saving model to resnet50_best.h5\n",
            "Epoch 18/20\n",
            "43/43 [==============================] - 11s 253ms/step - loss: 0.2069 - accuracy: 0.9298 - val_loss: 0.2191 - val_accuracy: 0.9028\n",
            "\n",
            "Epoch 00018: val_loss did not improve from 0.20443\n",
            "Epoch 19/20\n",
            "43/43 [==============================] - 11s 260ms/step - loss: 0.2168 - accuracy: 0.9094 - val_loss: 0.1965 - val_accuracy: 0.9201\n",
            "\n",
            "Epoch 00019: val_loss improved from 0.20443 to 0.19649, saving model to resnet50_best.h5\n",
            "Epoch 20/20\n",
            "43/43 [==============================] - 11s 260ms/step - loss: 0.1921 - accuracy: 0.9298 - val_loss: 0.1936 - val_accuracy: 0.9201\n",
            "\n",
            "Epoch 00020: val_loss improved from 0.19649 to 0.19359, saving model to resnet50_best.h5\n"
          ],
          "name": "stdout"
        }
      ]
    },
    {
      "cell_type": "code",
      "metadata": {
        "id": "QIZvMrpexXes"
      },
      "source": [
        "# the second time all layers of model are trained\n",
        "base_model.trainable = True"
      ],
      "execution_count": null,
      "outputs": []
    },
    {
      "cell_type": "code",
      "metadata": {
        "id": "lSgr0L3rxImD",
        "colab": {
          "base_uri": "https://localhost:8080/"
        },
        "outputId": "d0dda2c0-8d57-47f4-acbb-38fbe09ae148"
      },
      "source": [
        "model.compile(optimizer=Adam(lr=0.000001), loss='categorical_crossentropy', metrics=['accuracy'])\n",
        "\n",
        "early_stopping = EarlyStopping(patience=5)\n",
        "checkpointer = ModelCheckpoint('resnet50_fine_best.h5', verbose=1, save_best_only=True)\n",
        "model.fit(batches, steps_per_epoch=num_train_steps, epochs=20, callbacks=[early_stopping, checkpointer], validation_data=val_batches, validation_steps=num_valid_steps)\n",
        "model.save('resnet50_fine_final.h5')"
      ],
      "execution_count": null,
      "outputs": [
        {
          "output_type": "stream",
          "text": [
            "/usr/local/lib/python3.7/dist-packages/tensorflow/python/keras/optimizer_v2/optimizer_v2.py:375: UserWarning: The `lr` argument is deprecated, use `learning_rate` instead.\n",
            "  \"The `lr` argument is deprecated, use `learning_rate` instead.\")\n"
          ],
          "name": "stderr"
        },
        {
          "output_type": "stream",
          "text": [
            "Epoch 1/20\n",
            "43/43 [==============================] - 22s 361ms/step - loss: 1.1569 - accuracy: 0.5614 - val_loss: 1.0243 - val_accuracy: 0.5868\n",
            "\n",
            "Epoch 00001: val_loss improved from inf to 1.02432, saving model to resnet50_fine_best.h5\n"
          ],
          "name": "stdout"
        },
        {
          "output_type": "stream",
          "text": [
            "/usr/local/lib/python3.7/dist-packages/tensorflow/python/keras/utils/generic_utils.py:497: CustomMaskWarning: Custom mask layers require a config and must override get_config. When loading, the custom mask layer must be passed to the custom_objects argument.\n",
            "  category=CustomMaskWarning)\n"
          ],
          "name": "stderr"
        },
        {
          "output_type": "stream",
          "text": [
            "Epoch 2/20\n",
            "43/43 [==============================] - 14s 324ms/step - loss: 0.8776 - accuracy: 0.6243 - val_loss: 0.8263 - val_accuracy: 0.6319\n",
            "\n",
            "Epoch 00002: val_loss improved from 1.02432 to 0.82635, saving model to resnet50_fine_best.h5\n",
            "Epoch 3/20\n",
            "43/43 [==============================] - 14s 332ms/step - loss: 0.6763 - accuracy: 0.6977 - val_loss: 0.6888 - val_accuracy: 0.6806\n",
            "\n",
            "Epoch 00003: val_loss improved from 0.82635 to 0.68881, saving model to resnet50_fine_best.h5\n",
            "Epoch 4/20\n",
            "43/43 [==============================] - 14s 331ms/step - loss: 0.5329 - accuracy: 0.7398 - val_loss: 0.5372 - val_accuracy: 0.7153\n",
            "\n",
            "Epoch 00004: val_loss improved from 0.68881 to 0.53725, saving model to resnet50_fine_best.h5\n",
            "Epoch 5/20\n",
            "43/43 [==============================] - 14s 334ms/step - loss: 0.4480 - accuracy: 0.7865 - val_loss: 0.4567 - val_accuracy: 0.7674\n",
            "\n",
            "Epoch 00005: val_loss improved from 0.53725 to 0.45667, saving model to resnet50_fine_best.h5\n",
            "Epoch 6/20\n",
            "43/43 [==============================] - 14s 325ms/step - loss: 0.3626 - accuracy: 0.8348 - val_loss: 0.4221 - val_accuracy: 0.8021\n",
            "\n",
            "Epoch 00006: val_loss improved from 0.45667 to 0.42209, saving model to resnet50_fine_best.h5\n",
            "Epoch 7/20\n",
            "43/43 [==============================] - 14s 326ms/step - loss: 0.2993 - accuracy: 0.8611 - val_loss: 0.3293 - val_accuracy: 0.8611\n",
            "\n",
            "Epoch 00007: val_loss improved from 0.42209 to 0.32928, saving model to resnet50_fine_best.h5\n",
            "Epoch 8/20\n",
            "43/43 [==============================] - 14s 332ms/step - loss: 0.2642 - accuracy: 0.8801 - val_loss: 0.2966 - val_accuracy: 0.8715\n",
            "\n",
            "Epoch 00008: val_loss improved from 0.32928 to 0.29661, saving model to resnet50_fine_best.h5\n",
            "Epoch 9/20\n",
            "43/43 [==============================] - 14s 334ms/step - loss: 0.1846 - accuracy: 0.9284 - val_loss: 0.2657 - val_accuracy: 0.8924\n",
            "\n",
            "Epoch 00009: val_loss improved from 0.29661 to 0.26570, saving model to resnet50_fine_best.h5\n",
            "Epoch 10/20\n",
            "43/43 [==============================] - 14s 329ms/step - loss: 0.1686 - accuracy: 0.9386 - val_loss: 0.2619 - val_accuracy: 0.8750\n",
            "\n",
            "Epoch 00010: val_loss improved from 0.26570 to 0.26189, saving model to resnet50_fine_best.h5\n",
            "Epoch 11/20\n",
            "43/43 [==============================] - 14s 328ms/step - loss: 0.1624 - accuracy: 0.9430 - val_loss: 0.1991 - val_accuracy: 0.9201\n",
            "\n",
            "Epoch 00011: val_loss improved from 0.26189 to 0.19912, saving model to resnet50_fine_best.h5\n",
            "Epoch 12/20\n",
            "43/43 [==============================] - 14s 333ms/step - loss: 0.1573 - accuracy: 0.9503 - val_loss: 0.2646 - val_accuracy: 0.8924\n",
            "\n",
            "Epoch 00012: val_loss did not improve from 0.19912\n",
            "Epoch 13/20\n",
            "43/43 [==============================] - 14s 333ms/step - loss: 0.1399 - accuracy: 0.9474 - val_loss: 0.1981 - val_accuracy: 0.9306\n",
            "\n",
            "Epoch 00013: val_loss improved from 0.19912 to 0.19805, saving model to resnet50_fine_best.h5\n",
            "Epoch 14/20\n",
            "43/43 [==============================] - 14s 327ms/step - loss: 0.1275 - accuracy: 0.9518 - val_loss: 0.1874 - val_accuracy: 0.9444\n",
            "\n",
            "Epoch 00014: val_loss improved from 0.19805 to 0.18741, saving model to resnet50_fine_best.h5\n",
            "Epoch 15/20\n",
            "43/43 [==============================] - 14s 329ms/step - loss: 0.1221 - accuracy: 0.9547 - val_loss: 0.1802 - val_accuracy: 0.9201\n",
            "\n",
            "Epoch 00015: val_loss improved from 0.18741 to 0.18015, saving model to resnet50_fine_best.h5\n",
            "Epoch 16/20\n",
            "43/43 [==============================] - 14s 335ms/step - loss: 0.1007 - accuracy: 0.9693 - val_loss: 0.1793 - val_accuracy: 0.9479\n",
            "\n",
            "Epoch 00016: val_loss improved from 0.18015 to 0.17935, saving model to resnet50_fine_best.h5\n",
            "Epoch 17/20\n",
            "43/43 [==============================] - 14s 331ms/step - loss: 0.0942 - accuracy: 0.9620 - val_loss: 0.1633 - val_accuracy: 0.9375\n",
            "\n",
            "Epoch 00017: val_loss improved from 0.17935 to 0.16334, saving model to resnet50_fine_best.h5\n",
            "Epoch 18/20\n",
            "43/43 [==============================] - 14s 329ms/step - loss: 0.0988 - accuracy: 0.9664 - val_loss: 0.1404 - val_accuracy: 0.9479\n",
            "\n",
            "Epoch 00018: val_loss improved from 0.16334 to 0.14036, saving model to resnet50_fine_best.h5\n",
            "Epoch 19/20\n",
            "43/43 [==============================] - 14s 328ms/step - loss: 0.0741 - accuracy: 0.9795 - val_loss: 0.1739 - val_accuracy: 0.9340\n",
            "\n",
            "Epoch 00019: val_loss did not improve from 0.14036\n",
            "Epoch 20/20\n",
            "43/43 [==============================] - 14s 335ms/step - loss: 0.0870 - accuracy: 0.9693 - val_loss: 0.1401 - val_accuracy: 0.9479\n",
            "\n",
            "Epoch 00020: val_loss improved from 0.14036 to 0.14015, saving model to resnet50_fine_best.h5\n"
          ],
          "name": "stdout"
        }
      ]
    },
    {
      "cell_type": "markdown",
      "metadata": {
        "id": "SseuTxh1MaR4"
      },
      "source": [
        "# Feature Extraction"
      ]
    },
    {
      "cell_type": "code",
      "metadata": {
        "id": "oLAaRPuYMsd2"
      },
      "source": [
        "def preprocess(image_path):\n",
        "    img = image.load_img(image_path, target_size=(224, 224))\n",
        "    # Convert image to numpy array of 3-dimensions\n",
        "    x = image.img_to_array(img)\n",
        "    # Add one more dimension\n",
        "    x = np.expand_dims(x, axis=0)\n",
        "    # preprocess the images using preprocess_input() from ResNet50 module\n",
        "    x = preprocess_input(x)\n",
        "    return x\n",
        "# Function to extract features of a given image into a vector of size (2048, )\n",
        "def feature_extractor(image):\n",
        "    image = preprocess(image) # preprocess the image\n",
        "    fea_vec = fea_ext_model.predict(image) # Get the feature vector for the image\n",
        "    fea_vec = np.reshape(fea_vec, fea_vec.shape[1]) # reshape from (1, 2048) to (2048, )\n",
        "    return fea_vec\n"
      ],
      "execution_count": null,
      "outputs": []
    },
    {
      "cell_type": "code",
      "metadata": {
        "id": "3AhTPlXYMeeh",
        "colab": {
          "base_uri": "https://localhost:8080/",
          "height": 116,
          "referenced_widgets": [
            "a7521231607648098b8ff59ee2ca9349",
            "d1018c4919ab41c5afe522a3ee14bf2a",
            "cd651216f2964a328932da8d979cd920",
            "af3b43ee0d3e4ba8b96966da8f658858",
            "ca6764bddd444b71ad5bf2bb5237370e",
            "fa39f508c2484cf982e06ce9ec835f59",
            "cb4e78c1b7bc4a8aab3f6af34d4a395e",
            "cd5300ec22914c98b954231f2756acbf",
            "809e02ae783c4ab2a02be394dd51f89e",
            "91fb8da2a6b14a0e8412f2e7904b864a",
            "4bc8524d04ab4bc9b8b5fe5c4e746775",
            "4fd3b9d35289416f97ae66ba5bc64dda",
            "18e99b9abd8d4828946688f76a3b98b6",
            "c9165a451ac545ca8f7b34198211f0a5",
            "7792cdd22ebb4a70af0c180eb0885d13",
            "c4b262390f4e40a5940c6d61c4f140ed"
          ]
        },
        "outputId": "9237fa83-3103-4734-e238-4e7125ff5da5"
      },
      "source": [
        "last = model.layers[-3].output\n",
        "fea_ext_model =keras.Model(model.input, last)\n",
        "polyps = [file for file in glob.glob('dataset/train/polyps/*.jpg')]\n",
        "normals = [file for file in glob.glob('dataset/train/normal-cecum/*.jpg')]\n",
        "data = []\n",
        "for img in tqdm(polyps):\n",
        "  data.append((feature_extractor(img), 1))\n",
        "for img in tqdm(normals):\n",
        "  data.append((feature_extractor(img), 0))\n",
        "\n",
        "random.shuffle(data)\n",
        "X = []\n",
        "y = []\n",
        "for d in data:\n",
        "  X.append(d[0])\n",
        "  y.append(d[1])\n",
        "X = np.array(X)\n",
        "y = np.array(y)"
      ],
      "execution_count": null,
      "outputs": [
        {
          "output_type": "display_data",
          "data": {
            "application/vnd.jupyter.widget-view+json": {
              "model_id": "a7521231607648098b8ff59ee2ca9349",
              "version_minor": 0,
              "version_major": 2
            },
            "text/plain": [
              "HBox(children=(FloatProgress(value=0.0, max=350.0), HTML(value='')))"
            ]
          },
          "metadata": {
            "tags": []
          }
        },
        {
          "output_type": "stream",
          "text": [
            "\n"
          ],
          "name": "stdout"
        },
        {
          "output_type": "display_data",
          "data": {
            "application/vnd.jupyter.widget-view+json": {
              "model_id": "809e02ae783c4ab2a02be394dd51f89e",
              "version_minor": 0,
              "version_major": 2
            },
            "text/plain": [
              "HBox(children=(FloatProgress(value=0.0, max=350.0), HTML(value='')))"
            ]
          },
          "metadata": {
            "tags": []
          }
        },
        {
          "output_type": "stream",
          "text": [
            "\n"
          ],
          "name": "stdout"
        }
      ]
    },
    {
      "cell_type": "code",
      "metadata": {
        "colab": {
          "base_uri": "https://localhost:8080/",
          "height": 116,
          "referenced_widgets": [
            "85a14d082135495887d54d40bbcbd4f7",
            "70a6c85b57d042509263315d40864099",
            "e9d5daf7e0e64c41a09d3874e02a647f",
            "43a495af4e0845d0a1eafcfba07f8867",
            "4ee4621622fc47db8ebec873e03a311b",
            "5f43c345b9484c269b3e5a343c7c3a1f",
            "e421ea88772241368699aa2b4a3e0e5e",
            "555baaa581a34a47ad3f8264c216e959",
            "be779a82f3e143d5be1a20de44ca2b43",
            "e521a7b9fccf4fb28403132e5913145b",
            "5e4cb46df16443f89d12a99c08e36e30",
            "f1a9d9ecfa2c4abd9cc4f23a5a1e7bc0",
            "c1df6045109a4afc95f0f3161e4983b8",
            "8a02c7e23b5c4aba98c5850923366970",
            "8b88d42969284b948f23a7c4cb797893",
            "2e778870427845ccbc3834a70f15bc79"
          ]
        },
        "id": "cT-f_x9K64pv",
        "outputId": "139f062c-1a13-4ed4-8ae5-02d4c56e978d"
      },
      "source": [
        "polyps_test = [file for file in glob.glob('dataset/test/polyps/*.jpg')]\n",
        "normals_test = [file for file in glob.glob('dataset/test/normal-cecum/*.jpg')]\n",
        "data_test = []\n",
        "for img in tqdm(polyps_test):\n",
        "  data_test.append((feature_extractor(img), 1))\n",
        "for img in tqdm(normals_test):\n",
        "  data_test.append((feature_extractor(img), 0))\n",
        "\n",
        "random.shuffle(data_test)\n",
        "X_test = []\n",
        "y_test = []\n",
        "for d in data_test:\n",
        "  X_test.append(d[0])\n",
        "  y_test.append(d[1])\n",
        "X_test = np.array(X_test)\n",
        "y_test = np.array(y_test)"
      ],
      "execution_count": null,
      "outputs": [
        {
          "output_type": "display_data",
          "data": {
            "application/vnd.jupyter.widget-view+json": {
              "model_id": "85a14d082135495887d54d40bbcbd4f7",
              "version_minor": 0,
              "version_major": 2
            },
            "text/plain": [
              "HBox(children=(FloatProgress(value=0.0, max=150.0), HTML(value='')))"
            ]
          },
          "metadata": {
            "tags": []
          }
        },
        {
          "output_type": "stream",
          "text": [
            "\n"
          ],
          "name": "stdout"
        },
        {
          "output_type": "display_data",
          "data": {
            "application/vnd.jupyter.widget-view+json": {
              "model_id": "be779a82f3e143d5be1a20de44ca2b43",
              "version_minor": 0,
              "version_major": 2
            },
            "text/plain": [
              "HBox(children=(FloatProgress(value=0.0, max=150.0), HTML(value='')))"
            ]
          },
          "metadata": {
            "tags": []
          }
        },
        {
          "output_type": "stream",
          "text": [
            "\n"
          ],
          "name": "stdout"
        }
      ]
    },
    {
      "cell_type": "markdown",
      "metadata": {
        "id": "0IR9ygbrSkVw"
      },
      "source": [
        "\n",
        "# PCA"
      ]
    },
    {
      "cell_type": "code",
      "metadata": {
        "id": "v9wtpKEDOGnx",
        "colab": {
          "base_uri": "https://localhost:8080/"
        },
        "outputId": "231b6caf-5515-4608-b7ae-a1b821d25dd5"
      },
      "source": [
        "X_total = np.concatenate([X, X_test])\n",
        "pca1 = PCA(n_components=1000)\n",
        "pca1.fit(X_total)\n",
        "n_comp = pca1.explained_variance_[pca1.explained_variance_ > 0.1].shape[0]\n",
        "print(n_comp)\n",
        "pca = PCA(n_components=n_comp)\n",
        "x_total = pca.fit_transform(X_total)\n",
        "x_pca = x_total[:700]\n",
        "X_test  = x_total[700:]"
      ],
      "execution_count": null,
      "outputs": [
        {
          "output_type": "stream",
          "text": [
            "34\n"
          ],
          "name": "stdout"
        }
      ]
    },
    {
      "cell_type": "markdown",
      "metadata": {
        "id": "S0dxWLh8OkSR"
      },
      "source": [
        "# Data Augmentation"
      ]
    },
    {
      "cell_type": "code",
      "metadata": {
        "id": "NN0srUbuOnku"
      },
      "source": [
        "n = len(x_pca)\n",
        "for i in range(n):\n",
        "  # find knn\n",
        "  min = 10000000\n",
        "  idx = -1\n",
        "  min2 = 10000000\n",
        "  idx2 = -1\n",
        "  for j in range(n):\n",
        "    if (i!=j) and (y[i]==y[j]):\n",
        "      dst = distance.euclidean(x_pca[i],x_pca[j])\n",
        "      if dst < min:\n",
        "        min2 = min\n",
        "        idx2 = idx\n",
        "        min = dst\n",
        "        idx = j\n",
        "      elif dst < min2:\n",
        "        min2 = dst\n",
        "        idx2 = j\n",
        "  # add interpolation\n",
        "  new = 0.5*(x_pca[idx]-x_pca[i])+x_pca[i]\n",
        "  x_pca = np.append(x_pca, [new], axis = 0)\n",
        "  y = np.append(y,[y[i]], axis = 0)\n",
        "  # add outerpolation\n",
        "  new = -0.5*(x_pca[idx]-x_pca[i])+x_pca[i]\n",
        "  x_pca = np.append(x_pca, [new], axis = 0)\n",
        "  y = np.append(y,[y[i]], axis = 0)"
      ],
      "execution_count": null,
      "outputs": []
    },
    {
      "cell_type": "markdown",
      "metadata": {
        "id": "YdudG7uSO1U4"
      },
      "source": [
        "\n",
        "# Classification"
      ]
    },
    {
      "cell_type": "code",
      "metadata": {
        "id": "ZlPZGfj-O10R",
        "colab": {
          "base_uri": "https://localhost:8080/"
        },
        "outputId": "2a62ac63-2d96-4955-ec77-c98a0bbe6122"
      },
      "source": [
        "X_train = x_pca\n",
        "y_train = y\n",
        "sc = StandardScaler()\n",
        "X_train_std = sc.fit_transform(X_train)\n",
        "dtree = DecisionTreeClassifier(criterion='gini', random_state=40)\n",
        "adbclassifier = AdaBoostClassifier(base_estimator=dtree, \n",
        "                                   n_estimators=400, \n",
        "                                   learning_rate=0.000005,\n",
        "                                   algorithm = 'SAMME',\n",
        "                                   random_state=40)\n",
        "adbclassifier.fit(X_train, y_train)"
      ],
      "execution_count": null,
      "outputs": [
        {
          "output_type": "execute_result",
          "data": {
            "text/plain": [
              "AdaBoostClassifier(algorithm='SAMME',\n",
              "                   base_estimator=DecisionTreeClassifier(ccp_alpha=0.0,\n",
              "                                                         class_weight=None,\n",
              "                                                         criterion='gini',\n",
              "                                                         max_depth=None,\n",
              "                                                         max_features=None,\n",
              "                                                         max_leaf_nodes=None,\n",
              "                                                         min_impurity_decrease=0.0,\n",
              "                                                         min_impurity_split=None,\n",
              "                                                         min_samples_leaf=1,\n",
              "                                                         min_samples_split=2,\n",
              "                                                         min_weight_fraction_leaf=0.0,\n",
              "                                                         presort='deprecated',\n",
              "                                                         random_state=40,\n",
              "                                                         splitter='best'),\n",
              "                   learning_rate=5e-06, n_estimators=400, random_state=40)"
            ]
          },
          "metadata": {
            "tags": []
          },
          "execution_count": 19
        }
      ]
    },
    {
      "cell_type": "markdown",
      "metadata": {
        "id": "CMUbte7ZPLDL"
      },
      "source": [
        "# Result"
      ]
    },
    {
      "cell_type": "code",
      "metadata": {
        "id": "7wnbHb_el7eC",
        "colab": {
          "base_uri": "https://localhost:8080/",
          "height": 358
        },
        "outputId": "e18a8986-28bb-470e-ad5d-f1793413c927"
      },
      "source": [
        "y_pred = adbclassifier.predict(X_test)\n",
        "conf_matrix = confusion_matrix(y_true=y_test, y_pred=y_pred)\n",
        "fig, ax = plt.subplots(figsize=(5, 5))\n",
        "ax.matshow(conf_matrix, cmap=plt.cm.Oranges, alpha=0.3)\n",
        "for i in range(conf_matrix.shape[0]):\n",
        "    for j in range(conf_matrix.shape[1]):\n",
        "        ax.text(x=j, y=i,s=conf_matrix[i, j], va='center',\n",
        "                ha='center', size='xx-large')\n",
        " \n",
        "plt.xlabel('Predictions', fontsize=18)\n",
        "plt.ylabel('Actuals', fontsize=18)\n",
        "plt.title('Confusion Matrix', fontsize=18)\n",
        "plt.show()"
      ],
      "execution_count": null,
      "outputs": [
        {
          "output_type": "display_data",
          "data": {
            "image/png": "[encoded data removed]",
            "text/plain": [
              "<Figure size 360x360 with 1 Axes>"
            ]
          },
          "metadata": {
            "tags": [],
            "needs_background": "light"
          }
        }
      ]
    },
    {
      "cell_type": "code",
      "metadata": {
        "colab": {
          "base_uri": "https://localhost:8080/"
        },
        "id": "sMhOZZeKnk_j",
        "outputId": "a3a8f6cd-c74b-4cee-b0c9-bc01e85abb08"
      },
      "source": [
        "tn = conf_matrix[0, 0]\n",
        "tp = conf_matrix[1, 1]\n",
        "fn = conf_matrix[1, 0]\n",
        "fp = conf_matrix[0, 1]\n",
        "print('Specificity: %.3f' % float(tn/(tn+fp)))\n",
        "print('Sensitivity: %.3f' % float(tp/(tp+fn)))\n",
        "print('FPR: %.3f' % float(fp/(fp+tn)))\n",
        "print('Recall: %.3f' % recall_score(y_test, y_pred))\n",
        "print('Accuracy: %.3f' % accuracy_score(y_test, y_pred))\n",
        "print('F1 Score: %.3f' % f1_score(y_test, y_pred))\n",
        "error_rate = 1- accuracy_score(y_test, y_pred)\n",
        "print('Error: %.3f' % error_rate)"
      ],
      "execution_count": null,
      "outputs": [
        {
          "output_type": "stream",
          "text": [
            "Specificity: 0.987\n",
            "Sensitivity: 0.987\n",
            "FPR: 0.013\n",
            "Recall: 0.987\n",
            "Accuracy: 0.987\n",
            "F1 Score: 0.987\n",
            "Error: 0.013\n"
          ],
          "name": "stdout"
        }
      ]
    },
    {
      "cell_type": "code",
      "metadata": {
        "colab": {
          "base_uri": "https://localhost:8080/",
          "height": 265
        },
        "id": "fPwiizVnjOUI",
        "outputId": "61bb5270-aab5-4daa-eaaa-e64466083da8"
      },
      "source": [
        "fpr_keras, tpr_keras, thresholds_keras = roc_curve(y_test, y_pred)\n",
        "auc_keras = auc(fpr_keras, tpr_keras)\n",
        "plt.plot(fpr_keras, tpr_keras, label='Keras (area = {:.3f})'.format(auc_keras))\n",
        "plt.show()"
      ],
      "execution_count": null,
      "outputs": [
        {
          "output_type": "display_data",
          "data": {
            "image/png": "[encoded data removed]",
            "text/plain": [
              "<Figure size 432x288 with 1 Axes>"
            ]
          },
          "metadata": {
            "tags": [],
            "needs_background": "light"
          }
        }
      ]
    }
  ]
}